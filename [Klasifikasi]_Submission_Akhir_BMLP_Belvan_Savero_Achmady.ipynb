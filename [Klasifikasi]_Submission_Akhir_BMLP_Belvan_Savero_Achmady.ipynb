{
  "nbformat": 4,
  "nbformat_minor": 0,
  "metadata": {
    "colab": {
      "provenance": [],
      "include_colab_link": true
    },
    "kernelspec": {
      "name": "python3",
      "display_name": "Python 3"
    },
    "language_info": {
      "name": "python"
    }
  },
  "cells": [
    {
      "cell_type": "markdown",
      "metadata": {
        "id": "view-in-github",
        "colab_type": "text"
      },
      "source": [
        "<a href=\"https://colab.research.google.com/github/Belvanz/submission-akhir-BMLP/blob/main/%5BKlasifikasi%5D_Submission_Akhir_BMLP_Belvan_Savero_Achmady.ipynb\" target=\"_parent\"><img src=\"https://colab.research.google.com/assets/colab-badge.svg\" alt=\"Open In Colab\"/></a>"
      ]
    },
    {
      "cell_type": "markdown",
      "source": [
        "# **1. Import Library**"
      ],
      "metadata": {
        "id": "fKADPWcFKlj3"
      }
    },
    {
      "cell_type": "markdown",
      "source": [
        "Pada tahap ini, Anda perlu mengimpor beberapa pustaka (library) Python yang dibutuhkan untuk analisis data dan pembangunan model machine learning."
      ],
      "metadata": {
        "id": "LgA3ERnVn84N"
      }
    },
    {
      "cell_type": "code",
      "source": [
        "# Import Library\n",
        "import pandas as pd\n",
        "import numpy as np\n",
        "import matplotlib.pyplot as plt\n",
        "import seaborn as sns\n",
        "from sklearn.preprocessing import StandardScaler, LabelEncoder\n",
        "from sklearn.cluster import KMeans\n",
        "from sklearn.metrics import silhouette_score\n",
        "from sklearn.decomposition import PCA\n",
        "from sklearn.model_selection import train_test_split\n",
        "from sklearn.ensemble import RandomForestClassifier\n",
        "from sklearn.metrics import accuracy_score, f1_score, classification_report, confusion_matrix\n",
        "from sklearn.model_selection import GridSearchCV"
      ],
      "metadata": {
        "id": "BlmvjLY9M4Yj"
      },
      "execution_count": 1,
      "outputs": []
    },
    {
      "cell_type": "markdown",
      "source": [
        "# **2. Memuat Dataset dari Hasil Clustering**"
      ],
      "metadata": {
        "id": "f3YIEnAFKrKL"
      }
    },
    {
      "cell_type": "markdown",
      "source": [
        "Memuat dataset hasil clustering dari file CSV ke dalam variabel DataFrame."
      ],
      "metadata": {
        "id": "Ey3ItwTen_7E"
      }
    },
    {
      "cell_type": "code",
      "source": [
        "# Memuat Dataset dari Hasil Clustering\n",
        "df = pd.read_csv(\"https://raw.githubusercontent.com/Belvanz/submission-akhir-BMLP/refs/heads/main/dataset_car_sales/car_sales_clustered.csv\")"
      ],
      "metadata": {
        "id": "GHCGNTyrM5fS"
      },
      "execution_count": 2,
      "outputs": []
    },
    {
      "cell_type": "markdown",
      "source": [
        "# **3. Data Splitting**"
      ],
      "metadata": {
        "id": "KkPem5eWL2UP"
      }
    },
    {
      "cell_type": "markdown",
      "source": [
        "Tahap Data Splitting bertujuan untuk memisahkan dataset menjadi dua bagian: data latih (training set) dan data uji (test set)."
      ],
      "metadata": {
        "id": "YYj1rl_JNI9Y"
      }
    },
    {
      "cell_type": "code",
      "source": [
        "# Membersihkan nama kolom dari spasi tambahan\n",
        "df.columns = df.columns.str.strip()\n",
        "\n",
        "# Identifikasi dan encode kolom kategorikal\n",
        "categorical_cols = [\"Company\", \"Model\", \"Engine\", \"Transmission\", \"Color\", \"Body Style\", \"Dealer_Region\", \"Gender\"]\n",
        "df_encoded = pd.get_dummies(df, columns=categorical_cols, drop_first=True)\n",
        "\n",
        "# Data Splitting\n",
        "X = df_encoded.drop(columns=[\"Cluster\", \"Car_id\", \"Date\", \"Customer Name\", \"Dealer_Name\", \"Dealer_No\"], errors='ignore')\n",
        "y = df_encoded[\"Cluster\"]\n",
        "# Membagi dataset menjadi data latih dan data uji\n",
        "X_train, X_test, y_train, y_test = train_test_split(X, y, test_size=0.2, random_state=42)\n",
        "\n",
        "# Scaling data\n",
        "scaler = StandardScaler()\n",
        "X_train_scaled = scaler.fit_transform(X_train)\n",
        "X_test_scaled = scaler.transform(X_test)\n",
        "\n",
        "print(\"Data Latih:\", X_train_scaled.shape)\n",
        "print(\"Data Uji:\", X_test_scaled.shape)"
      ],
      "metadata": {
        "id": "OubAW-7ONKVj",
        "colab": {
          "base_uri": "https://localhost:8080/"
        },
        "outputId": "97814581-4343-4470-b961-ddc7621bbcb7"
      },
      "execution_count": 4,
      "outputs": [
        {
          "output_type": "stream",
          "name": "stdout",
          "text": [
            "Data Latih: (18580, 201)\n",
            "Data Uji: (4645, 201)\n"
          ]
        }
      ]
    },
    {
      "cell_type": "markdown",
      "source": [
        "# **4. Membangun Model Klasifikasi**\n"
      ],
      "metadata": {
        "id": "IVPbB03CMhTT"
      }
    },
    {
      "cell_type": "markdown",
      "source": [
        "## **a. Membangun Model Klasifikasi**"
      ],
      "metadata": {
        "id": "Ned1pL9zMmBK"
      }
    },
    {
      "cell_type": "markdown",
      "source": [
        "Setelah memilih algoritma klasifikasi yang sesuai, langkah selanjutnya adalah melatih model menggunakan data latih.\n",
        "\n",
        "Berikut adalah rekomendasi tahapannya.\n",
        "1. Pilih algoritma klasifikasi yang sesuai, seperti Logistic Regression, Decision Tree, Random Forest, atau K-Nearest Neighbors (KNN).\n",
        "2. Latih model menggunakan data latih."
      ],
      "metadata": {
        "id": "WAWzPOE4Nkti"
      }
    },
    {
      "cell_type": "code",
      "source": [
        "# Membangun model klasifikasi dengan Random Forest\n",
        "model = RandomForestClassifier(n_estimators=100, random_state=42)\n",
        "model.fit(X_train_scaled, y_train)\n",
        "y_pred = model.predict(X_test_scaled)"
      ],
      "metadata": {
        "id": "4JYxBe87NLDk"
      },
      "execution_count": 5,
      "outputs": []
    },
    {
      "cell_type": "markdown",
      "source": [
        "Saya menggunakan Random Forest Classifier, yaitu algoritma yang menggunakan banyak pohon keputusan untuk mengklasifikasikan data."
      ],
      "metadata": {
        "id": "seYoHNY3XU1y"
      }
    },
    {
      "cell_type": "markdown",
      "source": [
        "## **b. Evaluasi Model Klasifikasi**"
      ],
      "metadata": {
        "id": "ergzChZFEL-O"
      }
    },
    {
      "cell_type": "markdown",
      "source": [
        "Berikut adalah **rekomendasi** tahapannya.\n",
        "1. Lakukan prediksi menggunakan data uji.\n",
        "2. Hitung metrik evaluasi seperti Accuracy dan F1-Score (Opsional: Precision dan Recall).\n",
        "3. Buat confusion matrix untuk melihat detail prediksi benar dan salah."
      ],
      "metadata": {
        "id": "zOm68u-7NpLT"
      }
    },
    {
      "cell_type": "code",
      "source": [
        "# Evaluasi model\n",
        "accuracy = accuracy_score(y_test, y_pred)\n",
        "report = classification_report(y_test, y_pred)\n",
        "\n",
        "print(\"Akurasi Model:\", accuracy)\n",
        "print(\"Laporan Klasifikasi:\\n\", report)"
      ],
      "metadata": {
        "id": "tMq4QAssNLip",
        "colab": {
          "base_uri": "https://localhost:8080/"
        },
        "outputId": "075d35c0-c060-43c0-a7e3-2e0cf031f24a"
      },
      "execution_count": 6,
      "outputs": [
        {
          "output_type": "stream",
          "name": "stdout",
          "text": [
            "Akurasi Model: 1.0\n",
            "Laporan Klasifikasi:\n",
            "               precision    recall  f1-score   support\n",
            "\n",
            "           0       1.00      1.00      1.00      2159\n",
            "           1       1.00      1.00      1.00      1962\n",
            "           2       1.00      1.00      1.00       524\n",
            "\n",
            "    accuracy                           1.00      4645\n",
            "   macro avg       1.00      1.00      1.00      4645\n",
            "weighted avg       1.00      1.00      1.00      4645\n",
            "\n"
          ]
        }
      ]
    },
    {
      "cell_type": "markdown",
      "source": [
        "Evaluasi Model Random Forest Classifier\n",
        "Model Random Forest Classifier yang digunakan menunjukkan performa sangat baik dengan akurasi 100% dan F1-Score 100% pada data uji.\n",
        "\n",
        "- Cluster 0 : F1-Score 100% artinya model sangat baik dalam mengklasifikasikan kategori ini tanpa kesalahan.\n",
        "- Cluster 1 : F1-Score 100% dan Recall: 100% artinya semua sampel dalam kelas ini berhasil diidentifikasi dengan benar.\n",
        "- Cluster 2 : F1-Score: 100% artinya tidak ada kesalahan klasifikasi yang terjadi, menunjukkan model bekerja sempurna pada semua kelas.\n",
        "\n",
        "Kesimpulan\n",
        "Model ini memiliki akurasi sempurna (100%), yang menunjukkan bahwa model berhasil mengklasifikasikan semua sampel dengan benar."
      ],
      "metadata": {
        "id": "H4_9OwrsXZlz"
      }
    },
    {
      "cell_type": "markdown",
      "source": [
        "## **c. Tuning Model Klasifikasi (Optional)**"
      ],
      "metadata": {
        "id": "ph9yIYDXEPuB"
      }
    },
    {
      "cell_type": "markdown",
      "source": [
        "Gunakan GridSearchCV, RandomizedSearchCV, atau metode lainnya untuk mencari kombinasi hyperparameter terbaik"
      ],
      "metadata": {
        "id": "-Bikx3LINv5e"
      }
    },
    {
      "cell_type": "code",
      "source": [
        "# Tuning Model Klasifikasi\n",
        "param_grid = {\n",
        "    'n_estimators': [50, 100, 200],\n",
        "    'max_depth': [None, 10, 20],\n",
        "    'min_samples_split': [2, 5, 10]\n",
        "}\n",
        "\n",
        "grid_search = GridSearchCV(RandomForestClassifier(random_state=42), param_grid, cv=5, scoring='accuracy')\n",
        "grid_search.fit(X_train_scaled, y_train)\n",
        "\n",
        "best_model = grid_search.best_estimator_\n",
        "print(\"Best Parameters:\", grid_search.best_params_)"
      ],
      "metadata": {
        "id": "winbFzb8NL95",
        "colab": {
          "base_uri": "https://localhost:8080/"
        },
        "outputId": "919dc1b7-dbed-417d-8108-ed851e3dc8ae"
      },
      "execution_count": 7,
      "outputs": [
        {
          "output_type": "stream",
          "name": "stdout",
          "text": [
            "Best Parameters: {'max_depth': None, 'min_samples_split': 2, 'n_estimators': 50}\n"
          ]
        }
      ]
    },
    {
      "cell_type": "markdown",
      "source": [
        "## **d. Evaluasi Model Klasifikasi setelah Tuning (Optional)**"
      ],
      "metadata": {
        "id": "hE7pqlEPEYzI"
      }
    },
    {
      "cell_type": "markdown",
      "source": [
        "Berikut adalah rekomendasi tahapannya.\n",
        "1. Gunakan model dengan hyperparameter terbaik.\n",
        "2. Hitung ulang metrik evaluasi untuk melihat apakah ada peningkatan performa."
      ],
      "metadata": {
        "id": "feaPESoeN0zz"
      }
    },
    {
      "cell_type": "code",
      "source": [
        "# Evaluasi Model Setelah Tuning (Optional)\n",
        "best_model = grid_search.best_estimator_\n",
        "y_pred_best = best_model.predict(X_test_scaled)\n",
        "print(\"\\n Evaluasi Model Setelah Tuning\")\n",
        "print(\"Accuracy:\", accuracy_score(y_test, y_pred_best))\n",
        "print(\"\\nClassification Report:\\n\", classification_report(y_test, y_pred_best))"
      ],
      "metadata": {
        "id": "HTXZRvEeNMb1",
        "colab": {
          "base_uri": "https://localhost:8080/"
        },
        "outputId": "ea6a0ff1-4d05-43d7-cbf3-aa9d611d75cb"
      },
      "execution_count": 8,
      "outputs": [
        {
          "output_type": "stream",
          "name": "stdout",
          "text": [
            "\n",
            " Evaluasi Model Setelah Tuning\n",
            "Accuracy: 1.0\n",
            "\n",
            "Classification Report:\n",
            "               precision    recall  f1-score   support\n",
            "\n",
            "           0       1.00      1.00      1.00      2159\n",
            "           1       1.00      1.00      1.00      1962\n",
            "           2       1.00      1.00      1.00       524\n",
            "\n",
            "    accuracy                           1.00      4645\n",
            "   macro avg       1.00      1.00      1.00      4645\n",
            "weighted avg       1.00      1.00      1.00      4645\n",
            "\n"
          ]
        }
      ]
    },
    {
      "cell_type": "markdown",
      "source": [
        "## **e. Analisis Hasil Evaluasi Model Klasifikasi**"
      ],
      "metadata": {
        "id": "ZRsOdm4uEgAW"
      }
    },
    {
      "cell_type": "markdown",
      "source": [
        "#### **1. Perbandingan Sebelum dan Setelah Tuning**\n",
        "- Akurasi sebelum tuning: 1.00\n",
        "- Akurasi setelah tuning: 1.00\n",
        "- Setelah dilakukan tuning menggunakan GridSearchCV, akurasi model tetap berada di angka 1.00.  \n",
        "- Hal ini menunjukkan bahwa model sudah mencapai performa maksimal sejak sebelum tuning, sehingga proses tuning tidak memberikan perubahan yang berarti dalam klasifikasi data pelanggan.  \n",
        "\n",
        "#### **2. Evaluasi Berdasarkan Confusion Matrix dan Classification Report**\n",
        "- **Cluster 0**  \n",
        "  - Precision: 100% (tetap)  \n",
        "  - Recall: 100% (tetap)  \n",
        "  - Model sangat akurat dalam mengklasifikasikan pelanggan pada cluster ini sebelum dan setelah tuning.\n",
        "  \n",
        "- **Cluster 1**  \n",
        "  - Precision: 100% (tetap)  \n",
        "  - Recall: 100% (tetap)  \n",
        "  - Model berhasil mengidentifikasi pelanggan di cluster ini dengan sempurna sebelum dan setelah tuning.\n",
        "\n",
        "- **Cluster 2**  \n",
        "  - Precision: 100% (tetap)  \n",
        "  - Recall: 100% (tetap)  \n",
        "  - Model mempertahankan kinerja sempurna dalam klasifikasi pelanggan pada cluster ini.\n",
        "\n",
        "#### **3. Kelemahan Model**\n",
        "- Risiko overfitting tetap perlu diperhatikan, terutama jika model diuji pada data baru yang memiliki distribusi berbeda.\n",
        "\n",
        "#### **4. Rekomendasi Tindakan Lanjutan**\n",
        "- Melakukan validasi dengan data baru untuk memastikan model tetap memiliki performa tinggi di kondisi nyata.\n",
        "- Karena akurasi sudah maksimal, ada kemungkinan model mengalami overfitting. Gunakan teknik seperti cross-validation atau evaluasi dengan data uji dari distribusi yang berbeda.\n",
        "- Mengurangi kompleksitas model jika diperlukan, agar tetap efisien tanpa kehilangan akurasi yang sudah sangat tinggi.\n",
        "- Meninjau kembali fitur yang digunakan, untuk melihat apakah ada fitur yang bisa dihapus tanpa mengurangi performa model.\n"
      ],
      "metadata": {
        "id": "Hm3BhSi6N4_l"
      }
    }
  ]
}